{
 "cells": [
  {
   "cell_type": "code",
   "execution_count": 1,
   "metadata": {},
   "outputs": [],
   "source": [
    "#####Data Challenge - What's for dinner\n",
    "###label recipes with which cuisine they are from\n",
    "##read in the recipes from the json file provided\n",
    "import pandas as pd\n",
    "\n",
    "recipes=pd.read_json('/Users/Kirsten/Documents/GitHub/DataChallengeWeek6/Data/unlabelled_recipies.json')\n",
    "\n",
    "pd.options.display.max_colwidth=100"
   ]
  },
  {
   "cell_type": "code",
   "execution_count": 2,
   "metadata": {
    "scrolled": false
   },
   "outputs": [
    {
     "name": "stdout",
     "output_type": "stream",
     "text": [
      "0      [pepper, bacon, russet potatoes, sugar, onions, gochugaru, olive oil, shredded cheddar cheese, k...\n",
      "1      ['rib', 'carrots', 'leeks', 'unsalted butter', 'finely chopped onion', 'baking potatoes', 'dry w...\n",
      "10     [orzo, garlic, heavy cream, white wine, spinach, eggs, chicken breasts, parmesan cheese, bread c...\n",
      "100    ['garlic', 'ginger', 'fish sauce', 'chayotes', 'cooking oil', 'onions', 'chicken meat', 'chicken...\n",
      "Name: ingredients, dtype: object\n"
     ]
    }
   ],
   "source": [
    "##show what the recipes look like\n",
    "print(recipes['ingredients'].iloc[0:4])"
   ]
  },
  {
   "cell_type": "code",
   "execution_count": 3,
   "metadata": {},
   "outputs": [
    {
     "name": "stdout",
     "output_type": "stream",
     "text": [
      "<class 'list'>\n",
      "<class 'str'>\n",
      "<class 'list'>\n"
     ]
    }
   ],
   "source": [
    "#two types of data strings and list:\n",
    "i=0\n",
    "for recipe in recipes['ingredients']:\n",
    "    print(type(recipe))\n",
    "    i=i+1\n",
    "    if i==3:\n",
    "        break"
   ]
  },
  {
   "cell_type": "code",
   "execution_count": 4,
   "metadata": {},
   "outputs": [],
   "source": [
    "###if a recipe is a string change it into a list of ingredients instead\n",
    "###create a new pd datafame that has all the columns I need for my classification\n",
    "labelled_recipes= pd.DataFrame(columns=['ingredients', 'num_asian', 'num_southeurope','percentage_asian','newlabel'])\n",
    "for recipe in recipes['ingredients']:\n",
    "    if isinstance(recipe,str):\n",
    "        labelled_recipes=labelled_recipes.append({\"ingredients\": recipe[2:len(recipe)-2].split(\"', '\"),\"num_asian\":float(0),'num_southeurope':float(0),\"percentage_asian\":float(0),\"newlabel\":str('undefined')},ignore_index=True)\n",
    "#        labelled_recipes=labelled_recipes.append({'ingredients': recipe,'num_asian':recipe,'num_southeurope':recipe,'percentage_asian':recipe,'newlabel':recipe},ignore_index=True)\n",
    "    else:\n",
    "\n",
    "        labelled_recipes=labelled_recipes.append({\"ingredients\": recipe,\"num_asian\":float(0),'num_southeurope':float(0),\"percentage_asian\":float(0),\"newlabel\":str('undefined')},ignore_index=True)\n",
    "\n"
   ]
  },
  {
   "cell_type": "code",
   "execution_count": 5,
   "metadata": {},
   "outputs": [],
   "source": [
    "##define my list of cuisines\n",
    "list_southeurope=['basil','tomato','eggplant','ricotta','halloumi','olive','feta']  ###important to include smallest common denominator, e.g. 'feta' and not 'feta cheese' to count instances of both 'feta' and 'feta cheese'\n",
    "list_asian=['soy','chili','coconut','ginger']"
   ]
  },
  {
   "cell_type": "code",
   "execution_count": 8,
   "metadata": {},
   "outputs": [],
   "source": [
    "##fill my dataframe with the values for whether it's asian or southern european food\n",
    "for i in range(len(labelled_recipes)):\n",
    "    for ingredient in labelled_recipes.loc[i,\"ingredients\"]:\n",
    "        if ingredient in list_southeurope:\n",
    "            labelled_recipes.loc[i,'num_southeurope']+=1\n",
    "        elif ingredient in list_asian:\n",
    "            labelled_recipes.loc[i,'num_asian']+=1\n",
    "    if (labelled_recipes.loc[i,\"num_asian\"]+labelled_recipes.loc[i,\"num_asian\"])!=0:\n",
    "        labelled_recipes.loc[i,\"percentage_asian\"]=labelled_recipes.loc[i,\"num_asian\"]/(labelled_recipes.loc[i,\"num_asian\"]+labelled_recipes.loc[i,\"num_southeurope\"])\n",
    "        if labelled_recipes.loc[i,\"percentage_asian\"]>.5:\n",
    "            labelled_recipes.loc[i,'newlabel']=\"Asian\"\n",
    "        elif labelled_recipes.loc[i,\"percentage_asian\"]<.5:\n",
    "            labelled_recipes.loc[i,'newlabel']=\"Southern_European\""
   ]
  },
  {
   "cell_type": "code",
   "execution_count": 11,
   "metadata": {},
   "outputs": [
    {
     "name": "stdout",
     "output_type": "stream",
     "text": [
      "\n",
      "Result dataframe :\n",
      "                                                                                                ingredients  \\\n",
      "3      [garlic, ginger, fish sauce, chayotes, cooking oil, onions, chicken meat, chicken, salt, water, ...   \n",
      "4      [onions, avocado, salt, coconut cream, cumin seed, tumeric, coconut oil, ginger, red chile powde...   \n",
      "30                   [sea salt, daikon, carrots, ginger, chili flakes, garlic, green onions, napa cabbage]   \n",
      "32     [oyster sauce, carrots, napa cabbage, salt, onions, green onions, water, celery, rice vinegar, h...   \n",
      "34     [kale, bok choy, peppercorns, cauliflower, seaweed, dried shiitake mushrooms, shiro miso, chard,...   \n",
      "63     [chicken broth, broccoli florets, soy sauce, sugar, corn starch, boneless skinless chicken breas...   \n",
      "73     [white onion, garlic, chili flakes, worcestershire sauce, roux, potatoes, curry powder, butter, ...   \n",
      "81                                                               [ginger, soy sauce, daikon, mirin, dashi]   \n",
      "96     [cumin seed, garam masala, garlic, red bell pepper, fennel seeds, frozen peas, cilantro, black p...   \n",
      "113               [ginger, lime juice, garlic, peanut butter, sweet chili sauce, fish sauce, coconut milk]   \n",
      "131    [garlic, mussels, oil, shrimp paste, salt, coconut cream, onions, pepper, squid, ginger, crab, s...   \n",
      "138    [minced ginger, ginger, ground pork, oyster sauce, cooking wine, salt, cold water, light soy sau...   \n",
      "141    [ramen noodles, ginger, kosher salt, bonito flakes, chili oil, bamboo shoots, scallions, carrots...   \n",
      "143    [ginger, brisket, mint leaves, kosher salt, Sriracha, garlic, toasted sesame oil, light soy sauc...   \n",
      "180    [ginger, garlic cloves, bottled clam juice, chopped cilantro fresh, sesame oil, sea bass fillets...   \n",
      "217    [chili powder, salt, ground turmeric, cinnamon, mustard seeds, cumin seed, water, tomatoes, bay ...   \n",
      "247    [oyster sauce, green onions, oil, Shaoxing wine, white pepper, water, corn starch, sugar, beansp...   \n",
      "278    [green onions, poblano chilies, plum tomatoes, grate lime peel, ground cumin, chopped cilantro f...   \n",
      "286    [cumin seed, ginger, chili powder, fenugreek leaves, yellow onion, pepper, coriander seeds, bone...   \n",
      "288    [paprika, cinnamon sticks, ground cumin, green chilies, tumeric, fresh coriander, fenugreek, gar...   \n",
      "301    [chili powder, ground turmeric, vegetable oil, salt, lemon juice, garlic cloves, yoghurt, soy mi...   \n",
      "332    [reduced sodium soy sauce, ginger, unsalted butter, lime, peanuts, Sriracha, cilantro leaves, bo...   \n",
      "346    [cauliflower, salt, water, chopped cilantro, garlic puree, light coconut milk, vegetable oil, di...   \n",
      "354    [granulated sugar, fine salt, coconut extract, sweet rice flour, whole milk, large eggs, coconut...   \n",
      "357    [flank steak, garlic, green onions, vegetable oil, ginger, dark brown sugar, water, corn starch,...   \n",
      "364    [napa cabbage, sweet soy sauce, black bean sauce, gochugaru, scallions, ground beef, garlic, gin...   \n",
      "378    [coriander, cumin seed, sunflower oil, lemon, plain flour, eggs, spring onions, ginger, chili sa...   \n",
      "384                                                    [coconut, ground cardamom, parboiled rice, jaggery]   \n",
      "410    [cumin seed, curry leaves, red chili peppers, green chilies, grated coconut, mustard seeds, oil,...   \n",
      "413    [agave nectar, black rice vinegar, dark soy sauce, chillies, cashew nuts, Shaoxing wine, light s...   \n",
      "...                                                                                                    ...   \n",
      "39227  [green peas, green chilies, garlic, crushed red pepper flakes, salt, cumin seed, curry leaves, g...   \n",
      "39236  [sake, ginger, granulated sugar, soy sauce, chicken thighs, lemon, garlic, vegetable oil, potato...   \n",
      "39243  [rib eye steaks, soy sauce, white sesame seeds, spring onions, garlic, sesame seeds, vegetable o...   \n",
      "39322  [cinnamon, meat tenderizer, boneless chicken breast, clove, garlic cloves, brown cardamom, ginge...   \n",
      "39343  [tiger prawn, sliced green onions, rice vermicelli, coconut, cooking spray, palm sugar, cilantro...   \n",
      "39360  [tomatoes, lemon, ginger, chopped cilantro, chiles, green pepper, sweet onion, dark brown sugar,...   \n",
      "39381  [kosher salt, fresh cilantro, garam masala, coconut milk, coconut oil, chicken breasts, cayenne ...   \n",
      "39388   [sesame oil, vegetable oil, ginger, corn starch, soy sauce, mushrooms, rice wine, gai lan, garlic]   \n",
      "39392                                       [yeast, sugar, cooked rice, salt, coconut milk, coconut, rice]   \n",
      "39459  [garlic cloves, beansprouts, scallions, thai basil, Sriracha, hoisin sauce, cinnamon sticks, kos...   \n",
      "39473  [eggs, beansprouts, scallions, medium shrimp, chile bean paste, bacon, sticky rice, garlic, sake...   \n",
      "39491  [green chilies, asafoetida, mango, curry leaves, mustard, dried red chile peppers, salt, grated ...   \n",
      "39527  [sesame oil, ginger, garlic, Sriracha, white pepper, vegetable oil, won ton wrappers, ground por...   \n",
      "39551  [salt, garlic, ginger, beef, clove, water, chili powder, black peppercorns, onions, fennel seeds...   \n",
      "39565  [bean paste, peanut oil, white pepper, sesame oil, sugar, ginger, water, green onions, hot bean ...   \n",
      "39570  [curry powder, shrimp, garlic, tomato paste, ground cumin, cilantro leaves, vegetable oil, salt,...   \n",
      "39571  [garam masala, cumin seed, salt, tumeric, cinnamon, red chili peppers, coconut sugar, fenugreek ...   \n",
      "39585  [water, pepper, leaves, pork liver, salt, miswa, blood, pork heart, fish sauce, onions, garlic, ...   \n",
      "39595  [sugar, snow peas, chicken breasts, salt, Shaoxing wine, sesame oil, corn starch, oyster sauce, ...   \n",
      "39617  [shallots, shoyu, coconut oil, coconut sugar, cilantro leaves, kaffir lime leaves, salt, garlic,...   \n",
      "39625  [honey, onions, soy sauce, ginger, pepper, sesame seeds, carrots, potatoes, red chili peppers, c...   \n",
      "39642  [soy sauce, honey, cooking oil, salt, star anise, chili, chinese five-spice powder, szechwan pep...   \n",
      "39660  [puff pastry, yoghurt, chili powder, salt, ground cumin, chicken breasts, onions, vegetable oil,...   \n",
      "39674  [onions, tomatoes, nutmeg, water, ginger, ground cinnamon, clove, grated coconut, garlic, salt, ...   \n",
      "39686  [sesame oil, light soy sauce, red pepper, curly kale, lemon grass, chicken breasts, garlic, ginger]   \n",
      "39697  [lemon, yellow peppers, ginger, red chili peppers, chicken drumsticks, onions, chickpeas, chicke...   \n",
      "39715                        [potatoes, ginger, fresh coriander, chillies, cumin seed, garam masala, salt]   \n",
      "39720  [garlic, chives, olive oil spray, honey, ginger, low sodium soy sauce, Sriracha, balsamic vinega...   \n",
      "39741          [spinach, ginger, amchur, seeds, salt, green chilies, ground cumin, whole wheat flour, oil]   \n",
      "39744                 [chili flakes, salt, garlic, ginger, szechwan peppercorns, peanut oil, chili pepper]   \n",
      "\n",
      "       num_asian  num_southeurope  percentage_asian newlabel  \n",
      "3            2.0              0.0               1.0    Asian  \n",
      "4            2.0              0.0               1.0    Asian  \n",
      "30           2.0              0.0               1.0    Asian  \n",
      "32           2.0              0.0               1.0    Asian  \n",
      "34           2.0              0.0               1.0    Asian  \n",
      "63           2.0              0.0               1.0    Asian  \n",
      "73           2.0              0.0               1.0    Asian  \n",
      "81           2.0              0.0               1.0    Asian  \n",
      "96           2.0              0.0               1.0    Asian  \n",
      "113          2.0              0.0               1.0    Asian  \n",
      "131          2.0              0.0               1.0    Asian  \n",
      "138          2.0              0.0               1.0    Asian  \n",
      "141          2.0              0.0               1.0    Asian  \n",
      "143          2.0              0.0               1.0    Asian  \n",
      "180          2.0              0.0               1.0    Asian  \n",
      "217          2.0              0.0               1.0    Asian  \n",
      "247          2.0              0.0               1.0    Asian  \n",
      "278          2.0              0.0               1.0    Asian  \n",
      "286          2.0              0.0               1.0    Asian  \n",
      "288          2.0              0.0               1.0    Asian  \n",
      "301          2.0              0.0               1.0    Asian  \n",
      "332          2.0              0.0               1.0    Asian  \n",
      "346          2.0              0.0               1.0    Asian  \n",
      "354          2.0              0.0               1.0    Asian  \n",
      "357          2.0              0.0               1.0    Asian  \n",
      "364          2.0              0.0               1.0    Asian  \n",
      "378          2.0              0.0               1.0    Asian  \n",
      "384          2.0              0.0               1.0    Asian  \n",
      "410          2.0              0.0               1.0    Asian  \n",
      "413          2.0              0.0               1.0    Asian  \n",
      "...          ...              ...               ...      ...  \n",
      "39227        2.0              0.0               1.0    Asian  \n",
      "39236        2.0              0.0               1.0    Asian  \n",
      "39243        2.0              0.0               1.0    Asian  \n",
      "39322        2.0              0.0               1.0    Asian  \n",
      "39343        2.0              0.0               1.0    Asian  \n",
      "39360        2.0              0.0               1.0    Asian  \n",
      "39381        2.0              0.0               1.0    Asian  \n",
      "39388        2.0              0.0               1.0    Asian  \n",
      "39392        2.0              0.0               1.0    Asian  \n",
      "39459        2.0              0.0               1.0    Asian  \n",
      "39473        2.0              0.0               1.0    Asian  \n",
      "39491        2.0              0.0               1.0    Asian  \n",
      "39527        2.0              0.0               1.0    Asian  \n",
      "39551        2.0              0.0               1.0    Asian  \n",
      "39565        2.0              0.0               1.0    Asian  \n",
      "39570        2.0              0.0               1.0    Asian  \n",
      "39571        2.0              0.0               1.0    Asian  \n",
      "39585        2.0              0.0               1.0    Asian  \n",
      "39595        2.0              0.0               1.0    Asian  \n",
      "39617        2.0              0.0               1.0    Asian  \n",
      "39625        2.0              0.0               1.0    Asian  \n",
      "39642        4.0              0.0               1.0    Asian  \n",
      "39660        2.0              0.0               1.0    Asian  \n",
      "39674        2.0              0.0               1.0    Asian  \n",
      "39686        2.0              0.0               1.0    Asian  \n",
      "39697        2.0              0.0               1.0    Asian  \n",
      "39715        2.0              0.0               1.0    Asian  \n",
      "39720        2.0              0.0               1.0    Asian  \n",
      "39741        2.0              0.0               1.0    Asian  \n",
      "39744        2.0              0.0               1.0    Asian  \n",
      "\n",
      "[2051 rows x 5 columns]\n"
     ]
    }
   ],
   "source": [
    "###Final output: group by cuisine by querying the dataframe\n",
    "Whichcuisinetonight=\"Asian\"  #options:Southern_European vs Asian\n",
    "suggested_recipes = labelled_recipes[labelled_recipes['newlabel'] ==Whichcuisinetonight] \n",
    "  \n",
    "print('\\nResult dataframe :\\n', suggested_recipes) "
   ]
  },
  {
   "cell_type": "code",
   "execution_count": null,
   "metadata": {},
   "outputs": [],
   "source": []
  },
  {
   "cell_type": "code",
   "execution_count": null,
   "metadata": {},
   "outputs": [],
   "source": []
  }
 ],
 "metadata": {
  "kernelspec": {
   "display_name": "Python 3",
   "language": "python",
   "name": "python3"
  },
  "language_info": {
   "codemirror_mode": {
    "name": "ipython",
    "version": 3
   },
   "file_extension": ".py",
   "mimetype": "text/x-python",
   "name": "python",
   "nbconvert_exporter": "python",
   "pygments_lexer": "ipython3",
   "version": "3.7.6"
  }
 },
 "nbformat": 4,
 "nbformat_minor": 2
}
